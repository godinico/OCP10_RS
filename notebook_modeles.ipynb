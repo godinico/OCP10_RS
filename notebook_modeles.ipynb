{
 "cells": [
  {
   "cell_type": "markdown",
   "id": "12e75602",
   "metadata": {},
   "source": [
    "<b><p style=\"text-align:center;font-size: 40px;\"> Projet n°10</p><b>\n",
    "<b><p style=\"text-align:center;font-size: 40px;\"> Réalisez une application de recommandation de contenu</p><b>\n",
    "<b><p style=\"text-align:center;font-size: 36px;\"> Développement, entraînement et évalution de modèles de recommandation </p><b>\n",
    "\n",
    "---"
   ]
  },
  {
   "cell_type": "markdown",
   "id": "a97d0244",
   "metadata": {},
   "source": [
    "# Introduction"
   ]
  },
  {
   "cell_type": "markdown",
   "id": "90c60ff0",
   "metadata": {},
   "source": [
    "Ce notebook présente le développement et l’évaluation de plusieurs modèles de recommandation de contenu pour les articles du site \"Globo.com\". Après avoir préparé et nettoyé les données d’interactions utilisateurs-articles, nous mettons en œuvre trois approches principales : un modèle basé sur la popularité, un modèle de filtrage basé sur le contenu utilisant les embeddings d’articles, et un modèle de filtrage collaboratif avec une décomposition SVD. Chaque méthode est évaluée selon des métriques de précision et de rappel sur un même échantillon d’utilisateurs, afin de comparer leurs performances et d’illustrer les avantages de chaque approche dans le contexte de la recommandation personnalisée."
   ]
  },
  {
   "cell_type": "markdown",
   "id": "58dae33f",
   "metadata": {},
   "source": [
    "# Préparation des données"
   ]
  },
  {
   "cell_type": "code",
   "execution_count": 1,
   "id": "b71a02fb",
   "metadata": {},
   "outputs": [],
   "source": [
    "# Imports\n",
    "import pandas as pd\n",
    "import numpy as np\n",
    "import os\n",
    "import pickle\n",
    "\n",
    "from surprise.model_selection import RandomizedSearchCV\n",
    "from surprise import Dataset, Reader, SVDpp\n",
    "from tqdm.notebook import tqdm"
   ]
  },
  {
   "cell_type": "markdown",
   "id": "8e635e05",
   "metadata": {},
   "source": [
    "On commence par charger et concaténer toutes les données sur les clics utilisateurs :"
   ]
  },
  {
   "cell_type": "code",
   "execution_count": null,
   "id": "a311cb4c",
   "metadata": {},
   "outputs": [
    {
     "data": {
      "application/vnd.microsoft.datawrangler.viewer.v0+json": {
       "columns": [
        {
         "name": "index",
         "rawType": "int64",
         "type": "integer"
        },
        {
         "name": "user_id",
         "rawType": "object",
         "type": "unknown"
        },
        {
         "name": "session_id",
         "rawType": "object",
         "type": "unknown"
        },
        {
         "name": "session_start",
         "rawType": "object",
         "type": "unknown"
        },
        {
         "name": "session_size",
         "rawType": "object",
         "type": "unknown"
        },
        {
         "name": "click_article_id",
         "rawType": "object",
         "type": "unknown"
        },
        {
         "name": "click_timestamp",
         "rawType": "object",
         "type": "unknown"
        },
        {
         "name": "click_environment",
         "rawType": "object",
         "type": "unknown"
        },
        {
         "name": "click_deviceGroup",
         "rawType": "object",
         "type": "unknown"
        },
        {
         "name": "click_os",
         "rawType": "object",
         "type": "unknown"
        },
        {
         "name": "click_country",
         "rawType": "object",
         "type": "unknown"
        },
        {
         "name": "click_region",
         "rawType": "object",
         "type": "unknown"
        },
        {
         "name": "click_referrer_type",
         "rawType": "object",
         "type": "unknown"
        }
       ],
       "ref": "32f595c5-b02e-466b-afe5-da05ac8a66d8",
       "rows": [
        [
         "0",
         "0",
         "1506825423271737",
         "1506825423000",
         "2",
         "157541",
         "1506826828020",
         "4",
         "3",
         "20",
         "1",
         "20",
         "2"
        ],
        [
         "1",
         "0",
         "1506825423271737",
         "1506825423000",
         "2",
         "68866",
         "1506826858020",
         "4",
         "3",
         "20",
         "1",
         "20",
         "2"
        ],
        [
         "2",
         "1",
         "1506825426267738",
         "1506825426000",
         "2",
         "235840",
         "1506827017951",
         "4",
         "1",
         "17",
         "1",
         "16",
         "2"
        ],
        [
         "3",
         "1",
         "1506825426267738",
         "1506825426000",
         "2",
         "96663",
         "1506827047951",
         "4",
         "1",
         "17",
         "1",
         "16",
         "2"
        ],
        [
         "4",
         "2",
         "1506825435299739",
         "1506825435000",
         "2",
         "119592",
         "1506827090575",
         "4",
         "1",
         "17",
         "1",
         "24",
         "2"
        ],
        [
         "5",
         "2",
         "1506825435299739",
         "1506825435000",
         "2",
         "30970",
         "1506827120575",
         "4",
         "1",
         "17",
         "1",
         "24",
         "2"
        ],
        [
         "6",
         "3",
         "1506825442704740",
         "1506825442000",
         "2",
         "236065",
         "1506827536942",
         "4",
         "3",
         "2",
         "1",
         "21",
         "1"
        ],
        [
         "7",
         "3",
         "1506825442704740",
         "1506825442000",
         "2",
         "236294",
         "1506827566942",
         "4",
         "3",
         "2",
         "1",
         "21",
         "1"
        ],
        [
         "8",
         "4",
         "1506825528135741",
         "1506825528000",
         "2",
         "48915",
         "1506826927593",
         "4",
         "1",
         "17",
         "1",
         "17",
         "1"
        ],
        [
         "9",
         "4",
         "1506825528135741",
         "1506825528000",
         "2",
         "44488",
         "1506826957593",
         "4",
         "1",
         "17",
         "1",
         "17",
         "1"
        ],
        [
         "10",
         "5",
         "1506825541144742",
         "1506825541000",
         "3",
         "168868",
         "1506826884885",
         "4",
         "1",
         "12",
         "1",
         "25",
         "1"
        ],
        [
         "11",
         "5",
         "1506825541144742",
         "1506825541000",
         "3",
         "207122",
         "1506827097562",
         "4",
         "1",
         "12",
         "1",
         "25",
         "1"
        ],
        [
         "12",
         "5",
         "1506825541144742",
         "1506825541000",
         "3",
         "286413",
         "1506827127562",
         "4",
         "1",
         "12",
         "1",
         "25",
         "1"
        ],
        [
         "13",
         "6",
         "1506825553218743",
         "1506825553000",
         "2",
         "202436",
         "1506826872215",
         "4",
         "3",
         "20",
         "1",
         "21",
         "2"
        ],
        [
         "14",
         "6",
         "1506825553218743",
         "1506825553000",
         "2",
         "288431",
         "1506826902215",
         "4",
         "3",
         "20",
         "1",
         "21",
         "2"
        ],
        [
         "15",
         "7",
         "1506825568239744",
         "1506825568000",
         "2",
         "235840",
         "1506828125628",
         "4",
         "1",
         "17",
         "1",
         "21",
         "2"
        ],
        [
         "16",
         "7",
         "1506825568239744",
         "1506825568000",
         "2",
         "284847",
         "1506828155628",
         "4",
         "1",
         "17",
         "1",
         "21",
         "2"
        ],
        [
         "17",
         "8",
         "1506825573366745",
         "1506825573000",
         "3",
         "332114",
         "1506826999683",
         "4",
         "3",
         "20",
         "1",
         "12",
         "1"
        ],
        [
         "18",
         "8",
         "1506825573366745",
         "1506825573000",
         "3",
         "284847",
         "1506827438642",
         "4",
         "3",
         "20",
         "1",
         "12",
         "1"
        ],
        [
         "19",
         "8",
         "1506825573366745",
         "1506825573000",
         "3",
         "114161",
         "1506827468642",
         "4",
         "3",
         "20",
         "1",
         "12",
         "1"
        ],
        [
         "20",
         "9",
         "1506825599159746",
         "1506825599000",
         "2",
         "284346",
         "1506828088734",
         "4",
         "3",
         "2",
         "1",
         "25",
         "1"
        ],
        [
         "21",
         "9",
         "1506825599159746",
         "1506825599000",
         "2",
         "285412",
         "1506828118734",
         "4",
         "3",
         "2",
         "1",
         "25",
         "1"
        ],
        [
         "22",
         "10",
         "1506825602208747",
         "1506825602000",
         "3",
         "198420",
         "1506826975475",
         "4",
         "1",
         "17",
         "1",
         "18",
         "1"
        ],
        [
         "23",
         "10",
         "1506825602208747",
         "1506825602000",
         "3",
         "198322",
         "1506827046578",
         "4",
         "1",
         "17",
         "1",
         "18",
         "1"
        ],
        [
         "24",
         "10",
         "1506825602208747",
         "1506825602000",
         "3",
         "202436",
         "1506827076578",
         "4",
         "1",
         "17",
         "1",
         "18",
         "1"
        ],
        [
         "25",
         "11",
         "1506825617272748",
         "1506825617000",
         "2",
         "207122",
         "1506827186038",
         "4",
         "3",
         "2",
         "1",
         "16",
         "1"
        ],
        [
         "26",
         "11",
         "1506825617272748",
         "1506825617000",
         "2",
         "119592",
         "1506827216038",
         "4",
         "3",
         "2",
         "1",
         "16",
         "1"
        ],
        [
         "27",
         "12",
         "1506825617293749",
         "1506825617000",
         "3",
         "288431",
         "1506828524266",
         "4",
         "3",
         "20",
         "1",
         "21",
         "2"
        ],
        [
         "28",
         "12",
         "1506825617293749",
         "1506825617000",
         "3",
         "159359",
         "1506828802674",
         "4",
         "3",
         "20",
         "1",
         "21",
         "1"
        ],
        [
         "29",
         "12",
         "1506825617293749",
         "1506825617000",
         "3",
         "119592",
         "1506828832674",
         "4",
         "3",
         "20",
         "1",
         "21",
         "1"
        ],
        [
         "30",
         "13",
         "1506825621205750",
         "1506825621000",
         "2",
         "255575",
         "1506827699931",
         "4",
         "3",
         "20",
         "1",
         "19",
         "1"
        ],
        [
         "31",
         "13",
         "1506825621205750",
         "1506825621000",
         "2",
         "255340",
         "1506827729931",
         "4",
         "3",
         "20",
         "1",
         "19",
         "1"
        ],
        [
         "32",
         "14",
         "1506825636288751",
         "1506825636000",
         "2",
         "96663",
         "1506828786870",
         "4",
         "4",
         "20",
         "1",
         "6",
         "2"
        ],
        [
         "33",
         "14",
         "1506825636288751",
         "1506825636000",
         "2",
         "145166",
         "1506828816870",
         "4",
         "4",
         "20",
         "1",
         "6",
         "2"
        ],
        [
         "34",
         "15",
         "1506825653139752",
         "1506825653000",
         "2",
         "119592",
         "1506827825581",
         "4",
         "4",
         "2",
         "1",
         "25",
         "2"
        ],
        [
         "35",
         "15",
         "1506825653139752",
         "1506825653000",
         "2",
         "108854",
         "1506827855581",
         "4",
         "4",
         "2",
         "1",
         "25",
         "2"
        ],
        [
         "36",
         "16",
         "1506825660149753",
         "1506825660000",
         "7",
         "237620",
         "1506827187721",
         "4",
         "1",
         "17",
         "1",
         "19",
         "1"
        ],
        [
         "37",
         "16",
         "1506825660149753",
         "1506825660000",
         "7",
         "162286",
         "1506858007709",
         "4",
         "1",
         "17",
         "1",
         "19",
         "1"
        ],
        [
         "38",
         "16",
         "1506825660149753",
         "1506825660000",
         "7",
         "157132",
         "1506860972379",
         "4",
         "1",
         "17",
         "1",
         "19",
         "1"
        ],
        [
         "39",
         "16",
         "1506825660149753",
         "1506825660000",
         "7",
         "207122",
         "1506861047752",
         "4",
         "1",
         "17",
         "1",
         "19",
         "1"
        ],
        [
         "40",
         "16",
         "1506825660149753",
         "1506825660000",
         "7",
         "206233",
         "1506861117687",
         "4",
         "1",
         "17",
         "1",
         "19",
         "1"
        ],
        [
         "41",
         "16",
         "1506825660149753",
         "1506825660000",
         "7",
         "256163",
         "1506861183535",
         "4",
         "1",
         "17",
         "1",
         "19",
         "1"
        ],
        [
         "42",
         "16",
         "1506825660149753",
         "1506825660000",
         "7",
         "338351",
         "1506861213535",
         "4",
         "1",
         "17",
         "1",
         "19",
         "1"
        ],
        [
         "43",
         "17",
         "1506825696288754",
         "1506825696000",
         "3",
         "264013",
         "1506826988744",
         "4",
         "1",
         "17",
         "1",
         "25",
         "1"
        ],
        [
         "44",
         "17",
         "1506825696288754",
         "1506825696000",
         "3",
         "157861",
         "1506827326697",
         "4",
         "1",
         "17",
         "1",
         "25",
         "1"
        ],
        [
         "45",
         "17",
         "1506825696288754",
         "1506825696000",
         "3",
         "348103",
         "1506827356697",
         "4",
         "1",
         "17",
         "1",
         "25",
         "1"
        ],
        [
         "46",
         "18",
         "1506825700426755",
         "1506825700000",
         "6",
         "286421",
         "1506827170289",
         "4",
         "1",
         "17",
         "1",
         "24",
         "1"
        ],
        [
         "47",
         "18",
         "1506825700426755",
         "1506825700000",
         "6",
         "286420",
         "1506827538003",
         "4",
         "1",
         "17",
         "1",
         "24",
         "1"
        ],
        [
         "48",
         "18",
         "1506825700426755",
         "1506825700000",
         "6",
         "286414",
         "1506827555965",
         "4",
         "1",
         "17",
         "1",
         "24",
         "1"
        ],
        [
         "49",
         "18",
         "1506825700426755",
         "1506825700000",
         "6",
         "286417",
         "1506827556448",
         "4",
         "1",
         "17",
         "1",
         "24",
         "1"
        ]
       ],
       "shape": {
        "columns": 12,
        "rows": 2988181
       }
      },
      "text/html": [
       "<div>\n",
       "<style scoped>\n",
       "    .dataframe tbody tr th:only-of-type {\n",
       "        vertical-align: middle;\n",
       "    }\n",
       "\n",
       "    .dataframe tbody tr th {\n",
       "        vertical-align: top;\n",
       "    }\n",
       "\n",
       "    .dataframe thead th {\n",
       "        text-align: right;\n",
       "    }\n",
       "</style>\n",
       "<table border=\"1\" class=\"dataframe\">\n",
       "  <thead>\n",
       "    <tr style=\"text-align: right;\">\n",
       "      <th></th>\n",
       "      <th>user_id</th>\n",
       "      <th>session_id</th>\n",
       "      <th>session_start</th>\n",
       "      <th>session_size</th>\n",
       "      <th>click_article_id</th>\n",
       "      <th>click_timestamp</th>\n",
       "      <th>click_environment</th>\n",
       "      <th>click_deviceGroup</th>\n",
       "      <th>click_os</th>\n",
       "      <th>click_country</th>\n",
       "      <th>click_region</th>\n",
       "      <th>click_referrer_type</th>\n",
       "    </tr>\n",
       "  </thead>\n",
       "  <tbody>\n",
       "    <tr>\n",
       "      <th>0</th>\n",
       "      <td>0</td>\n",
       "      <td>1506825423271737</td>\n",
       "      <td>1506825423000</td>\n",
       "      <td>2</td>\n",
       "      <td>157541</td>\n",
       "      <td>1506826828020</td>\n",
       "      <td>4</td>\n",
       "      <td>3</td>\n",
       "      <td>20</td>\n",
       "      <td>1</td>\n",
       "      <td>20</td>\n",
       "      <td>2</td>\n",
       "    </tr>\n",
       "    <tr>\n",
       "      <th>1</th>\n",
       "      <td>0</td>\n",
       "      <td>1506825423271737</td>\n",
       "      <td>1506825423000</td>\n",
       "      <td>2</td>\n",
       "      <td>68866</td>\n",
       "      <td>1506826858020</td>\n",
       "      <td>4</td>\n",
       "      <td>3</td>\n",
       "      <td>20</td>\n",
       "      <td>1</td>\n",
       "      <td>20</td>\n",
       "      <td>2</td>\n",
       "    </tr>\n",
       "    <tr>\n",
       "      <th>2</th>\n",
       "      <td>1</td>\n",
       "      <td>1506825426267738</td>\n",
       "      <td>1506825426000</td>\n",
       "      <td>2</td>\n",
       "      <td>235840</td>\n",
       "      <td>1506827017951</td>\n",
       "      <td>4</td>\n",
       "      <td>1</td>\n",
       "      <td>17</td>\n",
       "      <td>1</td>\n",
       "      <td>16</td>\n",
       "      <td>2</td>\n",
       "    </tr>\n",
       "    <tr>\n",
       "      <th>3</th>\n",
       "      <td>1</td>\n",
       "      <td>1506825426267738</td>\n",
       "      <td>1506825426000</td>\n",
       "      <td>2</td>\n",
       "      <td>96663</td>\n",
       "      <td>1506827047951</td>\n",
       "      <td>4</td>\n",
       "      <td>1</td>\n",
       "      <td>17</td>\n",
       "      <td>1</td>\n",
       "      <td>16</td>\n",
       "      <td>2</td>\n",
       "    </tr>\n",
       "    <tr>\n",
       "      <th>4</th>\n",
       "      <td>2</td>\n",
       "      <td>1506825435299739</td>\n",
       "      <td>1506825435000</td>\n",
       "      <td>2</td>\n",
       "      <td>119592</td>\n",
       "      <td>1506827090575</td>\n",
       "      <td>4</td>\n",
       "      <td>1</td>\n",
       "      <td>17</td>\n",
       "      <td>1</td>\n",
       "      <td>24</td>\n",
       "      <td>2</td>\n",
       "    </tr>\n",
       "    <tr>\n",
       "      <th>...</th>\n",
       "      <td>...</td>\n",
       "      <td>...</td>\n",
       "      <td>...</td>\n",
       "      <td>...</td>\n",
       "      <td>...</td>\n",
       "      <td>...</td>\n",
       "      <td>...</td>\n",
       "      <td>...</td>\n",
       "      <td>...</td>\n",
       "      <td>...</td>\n",
       "      <td>...</td>\n",
       "      <td>...</td>\n",
       "    </tr>\n",
       "    <tr>\n",
       "      <th>2988176</th>\n",
       "      <td>10051</td>\n",
       "      <td>1508211372158328</td>\n",
       "      <td>1508211372000</td>\n",
       "      <td>2</td>\n",
       "      <td>84911</td>\n",
       "      <td>1508211557302</td>\n",
       "      <td>4</td>\n",
       "      <td>3</td>\n",
       "      <td>2</td>\n",
       "      <td>1</td>\n",
       "      <td>25</td>\n",
       "      <td>1</td>\n",
       "    </tr>\n",
       "    <tr>\n",
       "      <th>2988177</th>\n",
       "      <td>322896</td>\n",
       "      <td>1508211376302329</td>\n",
       "      <td>1508211376000</td>\n",
       "      <td>2</td>\n",
       "      <td>30760</td>\n",
       "      <td>1508211672520</td>\n",
       "      <td>4</td>\n",
       "      <td>1</td>\n",
       "      <td>17</td>\n",
       "      <td>1</td>\n",
       "      <td>25</td>\n",
       "      <td>2</td>\n",
       "    </tr>\n",
       "    <tr>\n",
       "      <th>2988178</th>\n",
       "      <td>322896</td>\n",
       "      <td>1508211376302329</td>\n",
       "      <td>1508211376000</td>\n",
       "      <td>2</td>\n",
       "      <td>157507</td>\n",
       "      <td>1508211702520</td>\n",
       "      <td>4</td>\n",
       "      <td>1</td>\n",
       "      <td>17</td>\n",
       "      <td>1</td>\n",
       "      <td>25</td>\n",
       "      <td>2</td>\n",
       "    </tr>\n",
       "    <tr>\n",
       "      <th>2988179</th>\n",
       "      <td>123718</td>\n",
       "      <td>1508211379189330</td>\n",
       "      <td>1508211379000</td>\n",
       "      <td>2</td>\n",
       "      <td>234481</td>\n",
       "      <td>1508211513583</td>\n",
       "      <td>4</td>\n",
       "      <td>3</td>\n",
       "      <td>2</td>\n",
       "      <td>1</td>\n",
       "      <td>25</td>\n",
       "      <td>2</td>\n",
       "    </tr>\n",
       "    <tr>\n",
       "      <th>2988180</th>\n",
       "      <td>123718</td>\n",
       "      <td>1508211379189330</td>\n",
       "      <td>1508211379000</td>\n",
       "      <td>2</td>\n",
       "      <td>233578</td>\n",
       "      <td>1508211543583</td>\n",
       "      <td>4</td>\n",
       "      <td>3</td>\n",
       "      <td>2</td>\n",
       "      <td>1</td>\n",
       "      <td>25</td>\n",
       "      <td>2</td>\n",
       "    </tr>\n",
       "  </tbody>\n",
       "</table>\n",
       "<p>2988181 rows × 12 columns</p>\n",
       "</div>"
      ],
      "text/plain": [
       "        user_id        session_id  session_start session_size  \\\n",
       "0             0  1506825423271737  1506825423000            2   \n",
       "1             0  1506825423271737  1506825423000            2   \n",
       "2             1  1506825426267738  1506825426000            2   \n",
       "3             1  1506825426267738  1506825426000            2   \n",
       "4             2  1506825435299739  1506825435000            2   \n",
       "...         ...               ...            ...          ...   \n",
       "2988176   10051  1508211372158328  1508211372000            2   \n",
       "2988177  322896  1508211376302329  1508211376000            2   \n",
       "2988178  322896  1508211376302329  1508211376000            2   \n",
       "2988179  123718  1508211379189330  1508211379000            2   \n",
       "2988180  123718  1508211379189330  1508211379000            2   \n",
       "\n",
       "        click_article_id click_timestamp click_environment click_deviceGroup  \\\n",
       "0                 157541   1506826828020                 4                 3   \n",
       "1                  68866   1506826858020                 4                 3   \n",
       "2                 235840   1506827017951                 4                 1   \n",
       "3                  96663   1506827047951                 4                 1   \n",
       "4                 119592   1506827090575                 4                 1   \n",
       "...                  ...             ...               ...               ...   \n",
       "2988176            84911   1508211557302                 4                 3   \n",
       "2988177            30760   1508211672520                 4                 1   \n",
       "2988178           157507   1508211702520                 4                 1   \n",
       "2988179           234481   1508211513583                 4                 3   \n",
       "2988180           233578   1508211543583                 4                 3   \n",
       "\n",
       "        click_os click_country click_region click_referrer_type  \n",
       "0             20             1           20                   2  \n",
       "1             20             1           20                   2  \n",
       "2             17             1           16                   2  \n",
       "3             17             1           16                   2  \n",
       "4             17             1           24                   2  \n",
       "...          ...           ...          ...                 ...  \n",
       "2988176        2             1           25                   1  \n",
       "2988177       17             1           25                   2  \n",
       "2988178       17             1           25                   2  \n",
       "2988179        2             1           25                   2  \n",
       "2988180        2             1           25                   2  \n",
       "\n",
       "[2988181 rows x 12 columns]"
      ]
     },
     "execution_count": 2,
     "metadata": {},
     "output_type": "execute_result"
    }
   ],
   "source": [
    "clicks_dir = 'news-portal-user-interactions-by-globocom/clicks'\n",
    "n_hours = 385\n",
    "clicks_list = []\n",
    "for i in range(n_hours):\n",
    "    path = os.path.join(clicks_dir, f'clicks_hour_{i:03d}.csv') \n",
    "    if os.path.exists(path):\n",
    "        df = pd.read_csv(path)\n",
    "        clicks_list.append(df)    \n",
    "clicks = pd.concat(clicks_list, ignore_index=True)\n",
    "clicks"
   ]
  },
  {
   "cell_type": "markdown",
   "id": "f1e064f2",
   "metadata": {},
   "source": [
    "On récupère ensuite les ID des différents articles consultés et on charge les embeddings :"
   ]
  },
  {
   "cell_type": "code",
   "execution_count": 3,
   "id": "ec8f1b4a",
   "metadata": {},
   "outputs": [],
   "source": [
    "# Extraire les IDs des articles consultés\n",
    "articles = clicks['click_article_id'].value_counts().index.to_numpy(dtype=int)\n",
    "\n",
    "# Charger les embeddings complets\n",
    "with open('news-portal-user-interactions-by-globocom/articles_embeddings.pickle', 'rb') as f:\n",
    "    embeddings = pickle.load(f)\n",
    "\n",
    "# normaliser les embeddings\n",
    "embeddings = embeddings / np.linalg.norm(embeddings, axis=1, keepdims=True)"
   ]
  },
  {
   "cell_type": "markdown",
   "id": "8fa8e547",
   "metadata": {},
   "source": [
    "On isole ensuite un dataframe contenant les ID des utilisateurs et les numéros des articles sur lesquels ils ont cliqué. On attribue une \"note\" de 1 pour toutes ces interactions, qui servira pour le cas du modèle collaboratif :"
   ]
  },
  {
   "cell_type": "code",
   "execution_count": 4,
   "id": "2ab7415b",
   "metadata": {},
   "outputs": [
    {
     "data": {
      "application/vnd.microsoft.datawrangler.viewer.v0+json": {
       "columns": [
        {
         "name": "index",
         "rawType": "int64",
         "type": "integer"
        },
        {
         "name": "user_id",
         "rawType": "object",
         "type": "unknown"
        },
        {
         "name": "click_article_id",
         "rawType": "object",
         "type": "unknown"
        },
        {
         "name": "rating",
         "rawType": "int64",
         "type": "integer"
        }
       ],
       "ref": "f74aedff-0ca7-4130-874a-538b8e59a327",
       "rows": [
        [
         "0",
         "0",
         "68866",
         "1"
        ],
        [
         "1",
         "0",
         "87205",
         "1"
        ],
        [
         "2",
         "0",
         "87224",
         "1"
        ],
        [
         "3",
         "0",
         "96755",
         "1"
        ],
        [
         "4",
         "0",
         "157541",
         "1"
        ],
        [
         "5",
         "0",
         "160158",
         "1"
        ],
        [
         "6",
         "0",
         "233470",
         "1"
        ],
        [
         "7",
         "0",
         "313996",
         "1"
        ],
        [
         "8",
         "1",
         "36162",
         "1"
        ],
        [
         "9",
         "1",
         "59758",
         "1"
        ],
        [
         "10",
         "1",
         "96663",
         "1"
        ],
        [
         "11",
         "1",
         "156723",
         "1"
        ],
        [
         "12",
         "1",
         "160474",
         "1"
        ],
        [
         "13",
         "1",
         "183176",
         "1"
        ],
        [
         "14",
         "1",
         "205973",
         "1"
        ],
        [
         "15",
         "1",
         "234481",
         "1"
        ],
        [
         "16",
         "1",
         "235840",
         "1"
        ],
        [
         "17",
         "1",
         "283392",
         "1"
        ],
        [
         "18",
         "1",
         "285719",
         "1"
        ],
        [
         "19",
         "1",
         "327984",
         "1"
        ],
        [
         "20",
         "2",
         "30760",
         "1"
        ],
        [
         "21",
         "2",
         "30970",
         "1"
        ],
        [
         "22",
         "2",
         "119592",
         "1"
        ],
        [
         "23",
         "2",
         "209122",
         "1"
        ],
        [
         "24",
         "3",
         "120967",
         "1"
        ],
        [
         "25",
         "3",
         "161178",
         "1"
        ],
        [
         "26",
         "3",
         "233688",
         "1"
        ],
        [
         "27",
         "3",
         "233769",
         "1"
        ],
        [
         "28",
         "3",
         "234318",
         "1"
        ],
        [
         "29",
         "3",
         "234686",
         "1"
        ],
        [
         "30",
         "3",
         "235132",
         "1"
        ],
        [
         "31",
         "3",
         "235665",
         "1"
        ],
        [
         "32",
         "3",
         "235689",
         "1"
        ],
        [
         "33",
         "3",
         "235745",
         "1"
        ],
        [
         "34",
         "3",
         "236065",
         "1"
        ],
        [
         "35",
         "3",
         "236294",
         "1"
        ],
        [
         "36",
         "3",
         "236444",
         "1"
        ],
        [
         "37",
         "3",
         "236671",
         "1"
        ],
        [
         "38",
         "3",
         "237452",
         "1"
        ],
        [
         "39",
         "3",
         "284985",
         "1"
        ],
        [
         "40",
         "3",
         "293114",
         "1"
        ],
        [
         "41",
         "4",
         "44488",
         "1"
        ],
        [
         "42",
         "4",
         "48915",
         "1"
        ],
        [
         "43",
         "4",
         "63307",
         "1"
        ],
        [
         "44",
         "4",
         "195084",
         "1"
        ],
        [
         "45",
         "4",
         "195887",
         "1"
        ],
        [
         "46",
         "4",
         "271261",
         "1"
        ],
        [
         "47",
         "4",
         "336499",
         "1"
        ],
        [
         "48",
         "5",
         "36399",
         "1"
        ],
        [
         "49",
         "5",
         "36399",
         "1"
        ]
       ],
       "shape": {
        "columns": 3,
        "rows": 2988181
       }
      },
      "text/html": [
       "<div>\n",
       "<style scoped>\n",
       "    .dataframe tbody tr th:only-of-type {\n",
       "        vertical-align: middle;\n",
       "    }\n",
       "\n",
       "    .dataframe tbody tr th {\n",
       "        vertical-align: top;\n",
       "    }\n",
       "\n",
       "    .dataframe thead th {\n",
       "        text-align: right;\n",
       "    }\n",
       "</style>\n",
       "<table border=\"1\" class=\"dataframe\">\n",
       "  <thead>\n",
       "    <tr style=\"text-align: right;\">\n",
       "      <th></th>\n",
       "      <th>user_id</th>\n",
       "      <th>click_article_id</th>\n",
       "      <th>rating</th>\n",
       "    </tr>\n",
       "  </thead>\n",
       "  <tbody>\n",
       "    <tr>\n",
       "      <th>0</th>\n",
       "      <td>0</td>\n",
       "      <td>68866</td>\n",
       "      <td>1</td>\n",
       "    </tr>\n",
       "    <tr>\n",
       "      <th>1</th>\n",
       "      <td>0</td>\n",
       "      <td>87205</td>\n",
       "      <td>1</td>\n",
       "    </tr>\n",
       "    <tr>\n",
       "      <th>2</th>\n",
       "      <td>0</td>\n",
       "      <td>87224</td>\n",
       "      <td>1</td>\n",
       "    </tr>\n",
       "    <tr>\n",
       "      <th>3</th>\n",
       "      <td>0</td>\n",
       "      <td>96755</td>\n",
       "      <td>1</td>\n",
       "    </tr>\n",
       "    <tr>\n",
       "      <th>4</th>\n",
       "      <td>0</td>\n",
       "      <td>157541</td>\n",
       "      <td>1</td>\n",
       "    </tr>\n",
       "    <tr>\n",
       "      <th>...</th>\n",
       "      <td>...</td>\n",
       "      <td>...</td>\n",
       "      <td>...</td>\n",
       "    </tr>\n",
       "    <tr>\n",
       "      <th>2988176</th>\n",
       "      <td>322894</td>\n",
       "      <td>168401</td>\n",
       "      <td>1</td>\n",
       "    </tr>\n",
       "    <tr>\n",
       "      <th>2988177</th>\n",
       "      <td>322895</td>\n",
       "      <td>63746</td>\n",
       "      <td>1</td>\n",
       "    </tr>\n",
       "    <tr>\n",
       "      <th>2988178</th>\n",
       "      <td>322895</td>\n",
       "      <td>289197</td>\n",
       "      <td>1</td>\n",
       "    </tr>\n",
       "    <tr>\n",
       "      <th>2988179</th>\n",
       "      <td>322896</td>\n",
       "      <td>30760</td>\n",
       "      <td>1</td>\n",
       "    </tr>\n",
       "    <tr>\n",
       "      <th>2988180</th>\n",
       "      <td>322896</td>\n",
       "      <td>157507</td>\n",
       "      <td>1</td>\n",
       "    </tr>\n",
       "  </tbody>\n",
       "</table>\n",
       "<p>2988181 rows × 3 columns</p>\n",
       "</div>"
      ],
      "text/plain": [
       "        user_id click_article_id  rating\n",
       "0             0            68866       1\n",
       "1             0            87205       1\n",
       "2             0            87224       1\n",
       "3             0            96755       1\n",
       "4             0           157541       1\n",
       "...         ...              ...     ...\n",
       "2988176  322894           168401       1\n",
       "2988177  322895            63746       1\n",
       "2988178  322895           289197       1\n",
       "2988179  322896            30760       1\n",
       "2988180  322896           157507       1\n",
       "\n",
       "[2988181 rows x 3 columns]"
      ]
     },
     "metadata": {},
     "output_type": "display_data"
    }
   ],
   "source": [
    "# Crée le users_df avec rating implicite binaire (1 pour chaque clic)\n",
    "users_df = clicks[['user_id', 'click_article_id']].copy()\n",
    "users_df['rating'] = 1  # implicite binaire\n",
    "\n",
    "users_df = users_df.sort_values(by=['user_id', 'click_article_id']).reset_index(drop=True)\n",
    "\n",
    "display(users_df)"
   ]
  },
  {
   "cell_type": "markdown",
   "id": "444cc5f6",
   "metadata": {},
   "source": [
    "On procède à la séparation en données de test et d'entrainement en utilisant une méthodologie de \"leave_one_out\" : pour chaque utilisateur, une seule de ses intéraction est placée dans les données de test, les autres sont regroupées dans les données d'entraînement."
   ]
  },
  {
   "cell_type": "code",
   "execution_count": 5,
   "id": "baca874d",
   "metadata": {},
   "outputs": [],
   "source": [
    "def train_test_split_leave_one_out(users_df):\n",
    "    train_rows = []\n",
    "    test_rows = []\n",
    "\n",
    "    grouped = users_df.groupby('user_id')\n",
    "\n",
    "    for user_id, group in grouped:\n",
    "        if len(group) < 2:\n",
    "            continue  # on ne garde que les utilisateurs avec au moins 2 interactions\n",
    "        group_sorted = group.sort_values('click_article_id')\n",
    "        test_row = group_sorted.iloc[-1]\n",
    "        train_rows.append(group_sorted.iloc[:-1])\n",
    "        test_rows.append(test_row)\n",
    "\n",
    "    train_df = pd.concat(train_rows)\n",
    "    test_df = pd.DataFrame(test_rows)\n",
    "\n",
    "    return train_df, test_df"
   ]
  },
  {
   "cell_type": "code",
   "execution_count": 6,
   "id": "b9583726",
   "metadata": {},
   "outputs": [
    {
     "name": "stdout",
     "output_type": "stream",
     "text": [
      "Train set size: 2665284, Test set size: 322897\n"
     ]
    }
   ],
   "source": [
    "train_df, test_df = train_test_split_leave_one_out(users_df)\n",
    "print(f\"Train set size: {len(train_df)}, Test set size: {len(test_df)}\")"
   ]
  },
  {
   "cell_type": "markdown",
   "id": "43e1970d",
   "metadata": {},
   "source": [
    "On s'assure que les différents identifiants d'utilisateurs et d'articles sont bien des entiers :"
   ]
  },
  {
   "cell_type": "code",
   "execution_count": 7,
   "id": "b5604727",
   "metadata": {},
   "outputs": [],
   "source": [
    "train_df['user_id'] = train_df['user_id'].astype(int)\n",
    "train_df['click_article_id'] = train_df['click_article_id'].astype(int)\n",
    "test_df['user_id'] = test_df['user_id'].astype(int)\n",
    "test_df['click_article_id'] = test_df['click_article_id'].astype(int)"
   ]
  },
  {
   "cell_type": "markdown",
   "id": "1d7bc934",
   "metadata": {},
   "source": [
    "Pour évaluer les performances des modèles, on ne pourra pas utiliser l'ensemble complet des données de test (temps de calcul trop long). On sélectionne donc un échantillion aléatoire de 10 0000 utilisateurs sur lesquels on évaluera les performances des modèles. Tous les modèles seront bien évalués sur ce meme \"users_sample\" :"
   ]
  },
  {
   "cell_type": "code",
   "execution_count": 8,
   "id": "499a776a",
   "metadata": {},
   "outputs": [],
   "source": [
    "n_users = 10000\n",
    "\n",
    "random_state = 42\n",
    "np.random.seed(random_state)\n",
    "\n",
    "all_user_ids = test_df['user_id'].unique()\n",
    "users_sample = np.random.choice(all_user_ids, size=n_users, replace=False)"
   ]
  },
  {
   "cell_type": "markdown",
   "id": "a3b2facd",
   "metadata": {},
   "source": [
    "# Baseline : modèle basé sur la popularité"
   ]
  },
  {
   "cell_type": "markdown",
   "id": "5ab4299a",
   "metadata": {},
   "source": [
    "Le premier modèle que l'on évalue est un modèle baseline basé sur la popularité : on recommande aux utilisateurs les articles qui ont été le plus consultés, c'est à dire ceux qui cumulent le plus de clics. On fait ces recommandations par ordre décroissant de popularité."
   ]
  },
  {
   "cell_type": "code",
   "execution_count": null,
   "id": "88584388",
   "metadata": {},
   "outputs": [],
   "source": [
    "def evaluate_popularity_model(train_df, test_df, users_sample, k=20):\n",
    "    \"\"\"\n",
    "    Évalue un modèle de recommandation basé sur la popularité des articles.\n",
    "\n",
    "    Pour chaque utilisateur de l'échantillon, recommande les k articles les plus populaires\n",
    "    (non encore vus par l'utilisateur) et calcule la précision et le rappel en comparant\n",
    "    avec les articles réellement consultés dans le jeu de test.\n",
    "\n",
    "    Args:\n",
    "        train_df (pd.DataFrame): Données d'entraînement contenant les interactions utilisateur-article.\n",
    "        test_df (pd.DataFrame): Données de test contenant les interactions utilisateur-article.\n",
    "        users_sample (array-like): Liste ou tableau des identifiants d'utilisateurs à évaluer.\n",
    "        k (int, optional): Nombre d'articles à recommander par utilisateur. Par défaut à 20.\n",
    "\n",
    "    Returns:\n",
    "        tuple: (précision moyenne, rappel moyen) calculés sur l'échantillon d'utilisateurs.\n",
    "    \"\"\"\n",
    "    # Popularité globale\n",
    "    most_popular_articles = train_df['click_article_id'].value_counts().index.values\n",
    "\n",
    "    # Pré-calcul user → articles vus / test\n",
    "    user_seen = train_df.groupby(\"user_id\")[\"click_article_id\"].apply(set).to_dict()\n",
    "    user_true = test_df.groupby(\"user_id\")[\"click_article_id\"].apply(set).to_dict()\n",
    "\n",
    "    precisions, recalls = [], []\n",
    "\n",
    "    for user_id in users_sample:\n",
    "        if user_id not in user_true:  # pas de vérité terrain\n",
    "            continue\n",
    "\n",
    "        seen = user_seen.get(user_id, set())\n",
    "        true_articles = user_true[user_id]\n",
    "        if not true_articles:\n",
    "            continue\n",
    "\n",
    "        # Récupérer les top-k non vus\n",
    "        recommended_ids = []\n",
    "        for aid in most_popular_articles:\n",
    "            if aid not in seen:\n",
    "                recommended_ids.append(aid)\n",
    "                if len(recommended_ids) == k:\n",
    "                    break\n",
    "\n",
    "        # Evaluation\n",
    "        hits = len(set(recommended_ids) & true_articles)\n",
    "        precisions.append(hits / k)\n",
    "        recalls.append(hits / len(true_articles))\n",
    "\n",
    "    if not precisions:\n",
    "        return 0.0, 0.0\n",
    "\n",
    "    return float(np.mean(precisions)), float(np.mean(recalls))"
   ]
  },
  {
   "cell_type": "code",
   "execution_count": 10,
   "id": "955444d4",
   "metadata": {},
   "outputs": [
    {
     "name": "stdout",
     "output_type": "stream",
     "text": [
      "Résultats de l'évaluation du modèle de recommandation basé sur la popularité :\n",
      "\n",
      "Précision@20: 0.0055\n",
      "Rappel@20: 0.1107\n"
     ]
    }
   ],
   "source": [
    "precision, recall = evaluate_popularity_model(\n",
    "    train_df,\n",
    "    test_df,\n",
    "    users_sample,\n",
    "    k=20\n",
    ")\n",
    "print(\"Résultats de l'évaluation du modèle de recommandation basé sur la popularité :\\n\")\n",
    "print(f\"Précision@20: {precision:.4f}\")\n",
    "print(f\"Rappel@20: {recall:.4f}\")"
   ]
  },
  {
   "cell_type": "markdown",
   "id": "25010012",
   "metadata": {},
   "source": [
    "# Filtrage basé sur le contenu"
   ]
  },
  {
   "cell_type": "markdown",
   "id": "50d48d2e",
   "metadata": {},
   "source": [
    "Le modèle de recommandation basé sur le contenu utilise les caractéristiques des articles (embeddings) pour proposer des contenus similaires à ceux déjà consultés par l’utilisateur. Pour chaque utilisateur, on construit un \"profil utilisateur\" en calculant la moyenne pondérée des embeddings des articles sur lesquels il a cliqué. Ensuite, on recommande les articles dont les embeddings sont les plus proches (similaires) de ce profil, en excluant ceux déjà vus. L’évaluation du modèle consiste à mesurer la précision et le rappel des recommandations sur un échantillon d’utilisateurs, en comparant les articles recommandés avec ceux réellement consultés dans les données de test. Cette approche permet de personnaliser les recommandations en fonction des préférences individuelles, même pour les utilisateurs ayant peu d’interactions."
   ]
  },
  {
   "cell_type": "code",
   "execution_count": 3,
   "id": "e7d60add",
   "metadata": {},
   "outputs": [],
   "source": [
    "def create_user_profile(user_id, users_df, embeddings):\n",
    "    \"\"\"\n",
    "    Crée le profil d'un utilisateur sous forme de vecteur d'embedding moyen.\n",
    "\n",
    "    Args:\n",
    "        user_id (int): Identifiant de l'utilisateur.\n",
    "        users_df (pd.DataFrame): DataFrame contenant les interactions utilisateur-article, \n",
    "                                 avec au moins les colonnes 'user_id', 'click_article_id', et 'rating'.\n",
    "        embeddings (np.ndarray): Tableau numpy des embeddings d'articles, indexé par article_id.\n",
    "\n",
    "    Returns:\n",
    "        np.ndarray or None: Vecteur profil utilisateur normalisé (embedding moyen pondéré), \n",
    "                            ou None si l'utilisateur n'a aucune interaction.\n",
    "    \"\"\"\n",
    "    user_data = users_df[users_df['user_id'] == user_id]\n",
    "    if user_data.empty:\n",
    "        return None\n",
    "\n",
    "    vectors, weights = [], []\n",
    "    for _, row in user_data.iterrows():\n",
    "        article_id = int(row['click_article_id'])\n",
    "        vectors.append(embeddings[article_id])\n",
    "        weights.append(row['rating'])\n",
    "\n",
    "    profile = np.average(vectors, axis=0, weights=weights)\n",
    "\n",
    "    # Normalisation du profil\n",
    "    norm = np.linalg.norm(profile)\n",
    "\n",
    "    return profile / norm"
   ]
  },
  {
   "cell_type": "code",
   "execution_count": null,
   "id": "979dac53",
   "metadata": {},
   "outputs": [],
   "source": [
    "def get_recommendations_content_based(user_id, data, embeddings, article_ids, k=5):\n",
    "    \"\"\"\n",
    "    Génère les recommandations d'articles pour un utilisateur donné en utilisant un modèle basé sur le contenu.\n",
    "\n",
    "    Pour chaque utilisateur, le profil est construit comme la moyenne pondérée des embeddings des articles déjà consultés.\n",
    "    Les articles non vus sont ensuite classés selon leur similarité cosinus avec le profil utilisateur, et les k plus similaires sont recommandés.\n",
    "\n",
    "    Args:\n",
    "        user_id (int): Identifiant de l'utilisateur.\n",
    "        data (pd.DataFrame): DataFrame contenant les interactions utilisateur-article, avec au moins 'user_id' et 'click_article_id'.\n",
    "        embeddings (np.ndarray): Tableau numpy des embeddings d'articles, indexé par article_id.\n",
    "        article_ids (array-like): Liste ou tableau des identifiants d'articles disponibles pour la recommandation.\n",
    "        k (int, optional): Nombre d'articles à recommander. Par défaut à 5.\n",
    "\n",
    "    Returns:\n",
    "        list: Liste des identifiants des k articles recommandés (non vus), triés par similarité décroissante.\n",
    "    \"\"\"\n",
    "    profile = create_user_profile(user_id, data, embeddings)\n",
    "    if profile is None:\n",
    "        return []\n",
    "\n",
    "    # Articles déjà cliqués par l'utilisateur\n",
    "    seen_articles = set(data[data['user_id'] == user_id]['click_article_id'].unique())\n",
    "\n",
    "    # Similarité entre profil et tous les articles\n",
    "    similarity = embeddings @ profile\n",
    "\n",
    "    # Restriction aux articles présents dans le dataset (et non cliqués)\n",
    "    unseen_article_ids = [aid for aid in article_ids if aid not in seen_articles]\n",
    "    if not unseen_article_ids:\n",
    "        return []\n",
    "\n",
    "    unseen_scores = similarity[unseen_article_ids]\n",
    "\n",
    "    # Top-k avec argpartition\n",
    "    top_k_idx = np.argpartition(unseen_scores, -k)[-k:]\n",
    "    top_k_idx = top_k_idx[np.argsort(unseen_scores[top_k_idx])[::-1]]\n",
    "\n",
    "    return np.array(unseen_article_ids)[top_k_idx].tolist()"
   ]
  },
  {
   "cell_type": "code",
   "execution_count": null,
   "id": "d9743463",
   "metadata": {},
   "outputs": [],
   "source": [
    "def evaluate_content_based(\n",
    "    train_df,\n",
    "    test_df,\n",
    "    embeddings,\n",
    "    article_ids, \n",
    "    users_sample,\n",
    "    k=20\n",
    "):\n",
    "    \"\"\"\n",
    "    Évalue le modèle de recommandation basé sur le contenu.\n",
    "\n",
    "    Pour chaque utilisateur de l'échantillon, recommande les k articles les plus similaires à son profil\n",
    "    (non encore vus par l'utilisateur) et calcule la précision et le rappel en comparant\n",
    "    avec les articles réellement consultés dans le jeu de test.\n",
    "\n",
    "    Args:\n",
    "        train_df (pd.DataFrame): Données d'entraînement contenant les interactions utilisateur-article.\n",
    "        test_df (pd.DataFrame): Données de test contenant les interactions utilisateur-article.\n",
    "        embeddings (np.ndarray): Tableau numpy des embeddings d'articles, indexé par article_id.\n",
    "        article_ids (array-like): Liste ou tableau des identifiants d'articles disponibles pour la recommandation.\n",
    "        users_sample (array-like): Liste ou tableau des identifiants d'utilisateurs à évaluer.\n",
    "        k (int, optional): Nombre d'articles à recommander par utilisateur. Par défaut à 20.\n",
    "\n",
    "    Returns:\n",
    "        tuple: (précision moyenne, rappel moyen) calculés sur l'échantillon d'utilisateurs.\n",
    "    \"\"\"\n",
    "    precisions = []\n",
    "    recalls = []\n",
    "\n",
    "    for user_id in tqdm(users_sample, desc=\"Évaluation des recommandations\"):\n",
    "        \n",
    "        recommended_ids = get_recommendations_content_based(user_id, train_df, embeddings, article_ids, k=k)\n",
    "\n",
    "        true_articles = test_df[test_df['user_id'] == user_id]['click_article_id'].unique()\n",
    "\n",
    "        hits = np.isin(recommended_ids, true_articles).sum()\n",
    "\n",
    "        precision = hits / len(recommended_ids)\n",
    "        recall = hits / len(true_articles)\n",
    "\n",
    "        precisions.append(precision)\n",
    "        recalls.append(recall)\n",
    "\n",
    "    if len(precisions) == 0:\n",
    "        return 0.0, 0.0\n",
    "\n",
    "    avg_precision = np.mean(precisions)\n",
    "    avg_recall = np.mean(recalls)\n",
    "\n",
    "    return avg_precision, avg_recall\n"
   ]
  },
  {
   "cell_type": "code",
   "execution_count": 14,
   "id": "a2523413",
   "metadata": {},
   "outputs": [
    {
     "data": {
      "application/vnd.jupyter.widget-view+json": {
       "model_id": "e264f8420cf9428b996fa9c096f412f6",
       "version_major": 2,
       "version_minor": 0
      },
      "text/plain": [
       "Évaluation des recommandations:   0%|          | 0/10000 [00:00<?, ?it/s]"
      ]
     },
     "metadata": {},
     "output_type": "display_data"
    },
    {
     "name": "stdout",
     "output_type": "stream",
     "text": [
      "Résultats de l'évaluation du modèle de recommandation basé sur le contenu :\n",
      "\n",
      "Précision@20: 0.0014\n",
      "Rappel@20: 0.0281\n"
     ]
    }
   ],
   "source": [
    "precision, recall = evaluate_content_based(\n",
    "    train_df,\n",
    "    test_df,\n",
    "    embeddings,\n",
    "    articles,\n",
    "    users_sample,\n",
    "    k=20,\n",
    ")\n",
    "print(\"Résultats de l'évaluation du modèle de recommandation basé sur le contenu :\\n\")\n",
    "print(f\"Précision@20: {precision:.4f}\")\n",
    "print(f\"Rappel@20: {recall:.4f}\")"
   ]
  },
  {
   "cell_type": "markdown",
   "id": "a112c3c5",
   "metadata": {},
   "source": [
    "Les performances de ce modèle sont très mauvaises, avec un rappel largement inférieur au modèle de popularité baseline. Cela vient très certainement du fait que pour chaque utilisateur, les articles qu'il a consultés ont une faible similarité entre eux (voir l'EDA dans le notebook eda_globocom.ipynb)."
   ]
  },
  {
   "cell_type": "markdown",
   "id": "d30cd007",
   "metadata": {},
   "source": [
    "# Filtrage collaboratif"
   ]
  },
  {
   "cell_type": "markdown",
   "id": "70f29676",
   "metadata": {},
   "source": [
    "Dans cette partie, nous mettons en œuvre un modèle de recommandation basé sur le filtrage collaboratif, plus précisément en utilisant la méthode SVD++ via la librairie Surprise. Le filtrage collaboratif exploite les interactions passées entre utilisateurs et articles pour prédire les préférences futures. \n",
    "\n",
    "Dans notre cas, c'est l'algorithme SVD++ qui a été utilisé à la place de l'algorithme SVD classique. En effet, la décomposition SVD++ prend en compte non seulement des notes explicites attribuées par les utilisateurs, mais aussi les interactions implicites, c’est-à-dire les articles sur lesquels l’utilisateur a cliqué, même sans donner de note. Dans notre cas, les données sont uniquement des clics (interactions implicites), et SVD++ permet d’exploiter ces informations pour mieux modéliser les préférences des utilisateurs. Cela améliore généralement la qualité des recommandations par rapport à une décomposition SVD classique, qui ne considère que des notes explicites.\n",
    "\n",
    "Voici les étapes principales :\n",
    "- Les données d’interactions (clics) sont transformées en une matrice utilisateur-article avec des notes implicites (1 pour chaque clic).\n",
    "- Le modèle SVD++ est entraîné sur ces interactions pour apprendre des représentations latentes des utilisateurs et des articles.\n",
    "- Pour chaque utilisateur, le modèle prédit les scores de tous les articles non encore vus et recommande ceux avec les meilleurs scores.\n",
    "- Les recommandations sont ensuite évaluées en termes de précision et de rappel sur un échantillon d’utilisateurs, en comparant les articles recommandés avec ceux réellement consultés dans les données de test.\n",
    "\n",
    "Cette approche permet de capturer des similarités entre utilisateurs et articles, sans utiliser d’informations sur le contenu des articles."
   ]
  },
  {
   "cell_type": "markdown",
   "id": "0b553856",
   "metadata": {},
   "source": [
    "Création de la matrice d'interactions utilisateurs-articles :"
   ]
  },
  {
   "cell_type": "code",
   "execution_count": 15,
   "id": "fe4689d4",
   "metadata": {},
   "outputs": [],
   "source": [
    "reader = Reader(rating_scale=(0, 1))\n",
    "data = Dataset.load_from_df(train_df[['user_id', 'click_article_id', 'rating']], reader)\n",
    "trainset = data.build_full_trainset()"
   ]
  },
  {
   "cell_type": "markdown",
   "id": "bd4591db",
   "metadata": {},
   "source": [
    "Entraînement du modèle (calcul de la décomposition SVD) :"
   ]
  },
  {
   "cell_type": "code",
   "execution_count": 16,
   "id": "e4fce3a9",
   "metadata": {},
   "outputs": [
    {
     "data": {
      "text/plain": [
       "<surprise.prediction_algorithms.matrix_factorization.SVDpp at 0x7f0860086f20>"
      ]
     },
     "execution_count": 16,
     "metadata": {},
     "output_type": "execute_result"
    }
   ],
   "source": [
    "svdpp = SVDpp(random_state=42, n_factors=1, n_epochs=5)\n",
    "svdpp.fit(trainset)"
   ]
  },
  {
   "cell_type": "markdown",
   "id": "c4b684aa",
   "metadata": {},
   "source": [
    "Nous n'avons malheureusement pas réussi a effectué de recherche par grille (gridSearchCV) pour essayer d'optimiser les paramètres du modèle. Chaque exécution de l'algorithme RandomizedSearchCV de Suprise entraînant un crash du Kernel, nous avons essayé d'optimiser le modèle au mieux en exécutant plusieurs fois l'entrainement et l'évaluation avec différents jeux d'hyperparamètres."
   ]
  },
  {
   "cell_type": "markdown",
   "id": "28142ed2",
   "metadata": {},
   "source": [
    "Sauvegarde du modèle entrainé :"
   ]
  },
  {
   "cell_type": "code",
   "execution_count": 17,
   "id": "ca18d4c3",
   "metadata": {},
   "outputs": [],
   "source": [
    "with open(\"model_svdpp.pkl\", \"wb\") as f:\n",
    "    pickle.dump(svdpp, f)"
   ]
  },
  {
   "cell_type": "code",
   "execution_count": null,
   "id": "5bd295a0",
   "metadata": {},
   "outputs": [],
   "source": [
    "def get_recommendations_collaborative(user_id, data, svd_model, article_ids, k=5):\n",
    "    \"\"\"\n",
    "    Génère les recommandations d'articles pour un utilisateur donné en utilisant un modèle collaboratif SVD++.\n",
    "\n",
    "    Pour chaque utilisateur, le modèle prédit les scores pour tous les articles non encore vus,\n",
    "    puis recommande les k articles avec les meilleurs scores.\n",
    "\n",
    "    Args:\n",
    "        user_id (int): Identifiant de l'utilisateur.\n",
    "        data (pd.DataFrame): DataFrame contenant les interactions utilisateur-article, avec au moins 'user_id' et 'click_article_id'.\n",
    "        svd_model: Modèle SVD++ entraîné via la librairie Surprise.\n",
    "        article_ids (array-like): Liste ou tableau des identifiants d'articles disponibles pour la recommandation.\n",
    "        k (int, optional): Nombre d'articles à recommander. Par défaut à 5.\n",
    "\n",
    "    Returns:\n",
    "        list: Liste des identifiants des k articles recommandés (non vus), triés par score prédictif décroissant.\n",
    "    \"\"\"\n",
    "    # Articles déjà vus\n",
    "    seen_articles = set(data[data['user_id'] == user_id]['click_article_id'].unique())\n",
    "\n",
    "    # Selection des articles non vus\n",
    "    unseen_article_ids = [aid for aid in article_ids if aid not in seen_articles]\n",
    "    if not unseen_article_ids:\n",
    "        return []\n",
    "\n",
    "    # Générer les prédictions\n",
    "    predictions = []\n",
    "    for aid in unseen_article_ids:\n",
    "        try:\n",
    "            pred = svd_model.predict(user_id, aid)\n",
    "            predictions.append((aid, pred.est))\n",
    "        except:\n",
    "            continue  # utilisateur ou article inconnu du modèle\n",
    "\n",
    "    # Trier et extraire top-k\n",
    "    top_k = sorted(predictions, key=lambda x: x[1], reverse=True)[:k]\n",
    "    recommended_ids = [aid for aid, _ in top_k]\n",
    "\n",
    "    return recommended_ids"
   ]
  },
  {
   "cell_type": "code",
   "execution_count": null,
   "id": "3e0ae8b0",
   "metadata": {},
   "outputs": [],
   "source": [
    "def evaluate_collaborative(\n",
    "    train_df,\n",
    "    test_df,\n",
    "    svd_model,\n",
    "    article_ids, \n",
    "    users_sample,\n",
    "    k=20\n",
    "):\n",
    "    \"\"\"\n",
    "    Évalue un modèle de recommandation collaboratif basé sur SVD++.\n",
    "\n",
    "    Pour chaque utilisateur de l'échantillon, recommande les k articles non vus avec les meilleurs scores prédits\n",
    "    par le modèle SVD++, puis calcule la précision et le rappel en comparant avec les articles réellement consultés\n",
    "    dans le jeu de test.\n",
    "\n",
    "    Args:\n",
    "        train_df (pd.DataFrame): Données d'entraînement contenant les interactions utilisateur-article.\n",
    "        test_df (pd.DataFrame): Données de test contenant les interactions utilisateur-article.\n",
    "        svd_model: Modèle SVD++ entraîné via la librairie Surprise.\n",
    "        article_ids (array-like): Liste ou tableau des identifiants d'articles disponibles pour la recommandation.\n",
    "        users_sample (array-like): Liste ou tableau des identifiants d'utilisateurs à évaluer.\n",
    "        k (int, optional): Nombre d'articles à recommander par utilisateur. Par défaut à 20.\n",
    "\n",
    "    Returns:\n",
    "        tuple: (précision moyenne, rappel moyen) calculés sur l'échantillon d'utilisateurs.\n",
    "    \"\"\"\n",
    "    precisions = []\n",
    "    recalls = []\n",
    "\n",
    "    for user_id in tqdm(users_sample, desc=\"Évaluation des recommandations\"):\n",
    "        \n",
    "        recommended_ids = get_recommendations_collaborative(user_id, train_df, svd_model, article_ids, k=k)\n",
    "\n",
    "        true_articles = test_df[test_df['user_id'] == user_id]['click_article_id'].unique()\n",
    "\n",
    "        hits = np.isin(recommended_ids, true_articles).sum()\n",
    "\n",
    "        precision = hits / len(recommended_ids)\n",
    "        recall = hits / len(true_articles)\n",
    "\n",
    "        precisions.append(precision)\n",
    "        recalls.append(recall)\n",
    "\n",
    "    if len(precisions) == 0:\n",
    "        return 0.0, 0.0\n",
    "\n",
    "    avg_precision = np.mean(precisions)\n",
    "    avg_recall = np.mean(recalls)\n",
    "\n",
    "    return avg_precision, avg_recall"
   ]
  },
  {
   "cell_type": "code",
   "execution_count": 20,
   "id": "58cc17fa",
   "metadata": {},
   "outputs": [
    {
     "data": {
      "application/vnd.jupyter.widget-view+json": {
       "model_id": "89fb1fb7146d4a8ca004bc7bc12c9f38",
       "version_major": 2,
       "version_minor": 0
      },
      "text/plain": [
       "Évaluation des recommandations:   0%|          | 0/10000 [00:00<?, ?it/s]"
      ]
     },
     "metadata": {},
     "output_type": "display_data"
    },
    {
     "name": "stdout",
     "output_type": "stream",
     "text": [
      "Résultats de l'évaluation du modèle de recommandation collaboratif :\n",
      "\n",
      "Précision@20: 0.0069\n",
      "Rappel@20: 0.1389\n"
     ]
    }
   ],
   "source": [
    "precision, recall = evaluate_collaborative(\n",
    "    train_df,\n",
    "    test_df,\n",
    "    svdpp,\n",
    "    articles,\n",
    "    users_sample,\n",
    "    k=20\n",
    ")\n",
    "print(\"Résultats de l'évaluation du modèle de recommandation collaboratif :\\n\")\n",
    "print(f\"Précision@20: {precision:.4f}\")\n",
    "print(f\"Rappel@20: {recall:.4f}\")"
   ]
  },
  {
   "cell_type": "markdown",
   "id": "d9b34527",
   "metadata": {},
   "source": [
    "Le filtrage collaboratif permet d'obtenir des performances légèrement meilleures que le modèle de popularité (rappel de 0.14 contre 0.11). "
   ]
  },
  {
   "cell_type": "markdown",
   "id": "51ea15be",
   "metadata": {},
   "source": [
    "# Conclusion"
   ]
  },
  {
   "cell_type": "markdown",
   "id": "f46d2dc6",
   "metadata": {},
   "source": [
    "Parmi les trois approches testées, le modèle de filtrage collaboratif (SVD++) s’est révélé le plus performant, surpassant le modèle de popularité et surtout le modèle basé sur le contenu, qui affiche les résultats les plus faibles. Malgré cela, les performances globales restent modestes, même pour le collaboratif. Cela s’explique probablement par le manque de diversité dans les interactions : comme observé dans l’EDA, un tiers des utilisateurs n’ont cliqué que sur deux articles, et les données ne comportent pas de véritables notes ou préférences explicites, mais uniquement des identifiants d’articles consultés. Cette limitation réduit la capacité des modèles à bien capturer les préférences individuelles et à générer des recommandations pertinentes."
   ]
  },
  {
   "cell_type": "markdown",
   "id": "7141926a",
   "metadata": {},
   "source": [
    "Dans le cadre du développement d'une application de recommandation de contenu, c'est donc le modèle avec filtrage collaboratif que nous avons décidé d'utiliser."
   ]
  }
 ],
 "metadata": {
  "kernelspec": {
   "display_name": "env10",
   "language": "python",
   "name": "env10"
  },
  "language_info": {
   "codemirror_mode": {
    "name": "ipython",
    "version": 3
   },
   "file_extension": ".py",
   "mimetype": "text/x-python",
   "name": "python",
   "nbconvert_exporter": "python",
   "pygments_lexer": "ipython3",
   "version": "3.10.12"
  }
 },
 "nbformat": 4,
 "nbformat_minor": 5
}

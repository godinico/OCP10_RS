
{
 "cells": [
  {
   "cell_type": "markdown",
   "metadata": {},
   "source": [
    "# 🧪 EDA – Interactions utilisateurs Globo.com\n",
    "Exploration des clics, articles et embeddings"
   ]
  },
  {
   "cell_type": "code",
   "execution_count": null,
   "metadata": {},
   "outputs": [],
   "source": [
    "# 📚 Imports\n",
    "import pandas as pd\n",
    "import numpy as np\n",
    "import matplotlib.pyplot as plt\n",
    "import seaborn as sns\n",
    "import os, pickle\n",
    "\n",
    "plt.style.use('ggplot')\n",
    "sns.set_theme()\n",
    "%matplotlib inline"
   ]
  },
  {
   "cell_type": "code",
   "execution_count": null,
   "metadata": {},
   "outputs": [],
   "source": [
    "# 📥 Chargement de 24h de clics\n",
    "clicks_dir = 'path/to/clicks_folder'  # <-- À adapter\n",
    "n_hours = 24\n",
    "clicks_list = []\n",
    "for i in range(n_hours):\n",
    "    path = os.path.join(clicks_dir, f'clicks_hour_{i:03d}.csv')\n",
    "    if os.path.exists(path):\n",
    "        df = pd.read_csv(path)\n",
    "        clicks_list.append(df)\n",
    "clicks = pd.concat(clicks_list, ignore_index=True)\n",
    "clicks['click_timestamp'] = pd.to_datetime(clicks['click_timestamp'], unit='s')\n",
    "clicks['hour'] = clicks['click_timestamp'].dt.hour\n",
    "clicks.head()"
   ]
  },
  {
   "cell_type": "code",
   "execution_count": null,
   "metadata": {},
   "outputs": [],
   "source": [
    "# 🔎 Statistiques de base\n",
    "print(f"Utilisateurs uniques : {clicks['user_id'].nunique()}")\n",
    "print(f"Articles uniques : {clicks['click_article_id'].nunique()}")\n",
    "clicks['hour'].value_counts().sort_index().plot(kind='bar', title='Volume de clics par heure')\n",
    "plt.show()"
   ]
  },
  {
   "cell_type": "code",
   "execution_count": null,
   "metadata": {},
   "outputs": [],
   "source": [
    "# 📰 Chargement des métadonnées articles\n",
    "articles = pd.read_csv('path/to/articles_metadata.csv')  # <-- À adapter\n",
    "articles['title_length'] = articles['title'].str.len()\n",
    "articles['category'].value_counts().head(10).plot(kind='barh', title='Top catégories')\n",
    "plt.show()\n",
    "articles['title_length'].hist(bins=30)\n",
    "plt.title('Distribution de la longueur des titres')\n",
    "plt.show()"
   ]
  },
  {
   "cell_type": "code",
   "execution_count": null,
   "metadata": {},
   "outputs": [],
   "source": [
    "# 🔀 Fusion clics + articles\n",
    "merged = clicks.merge(articles, left_on='click_article_id', right_on='article_id', how='left')\n",
    "merged[['user_id', 'click_article_id', 'category', 'title']].head()"
   ]
  },
  {
   "cell_type": "code",
   "execution_count": null,
   "metadata": {},
   "outputs": [],
   "source": [
    "# 🧬 Visualisation des embeddings\n",
    "with open('path/to/articles_embeddings.pickle', 'rb') as f:  # <-- À adapter\n",
    "    embeddings = pickle.load(f)\n",
    "\n",
    "from sklearn.decomposition import PCA\n",
    "sample_ids = list(embeddings.keys())[:500]\n",
    "vectors = np.array([embeddings[aid] for aid in sample_ids])\n",
    "reduced = PCA(n_components=2).fit_transform(vectors)\n",
    "\n",
    "plt.figure(figsize=(8, 6))\n",
    "plt.scatter(reduced[:, 0], reduced[:, 1], alpha=0.6)\n",
    "plt.title('Projection PCA de 500 embeddings')\n",
    "plt.xlabel('PCA 1')\n",
    "plt.ylabel('PCA 2')\n",
    "plt.tight_layout()\n",
    "plt.show()"
   ]
  }
 ],
 "metadata": {
  "kernelspec": {
   "display_name": "Python 3",
   "language": "python",
   "name": "python3"
  },
  "language_info": {
   "name": "python",
   "version": ""
  }
 },
 "nbformat": 4,
 "nbformat_minor": 5
}
